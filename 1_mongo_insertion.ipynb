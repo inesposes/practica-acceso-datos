{
 "cells": [
  {
   "cell_type": "markdown",
   "metadata": {},
   "source": [
    "1. Script requests API\n",
    "Este script hace consultas a la API cada 5 mninutos y mete los documentos de las estaciones de BiciCoruña en una base de datos mongo"
   ]
  },
  {
   "cell_type": "code",
   "execution_count": null,
   "metadata": {},
   "outputs": [],
   "source": [
    "!python scripts/mongo_insertion.py"
   ]
  }
 ],
 "metadata": {
  "kernelspec": {
   "display_name": "Python 3.7.16 ('basesdatos')",
   "language": "python",
   "name": "python3"
  },
  "language_info": {
   "codemirror_mode": {
    "name": "ipython",
    "version": 3
   },
   "file_extension": ".py",
   "mimetype": "text/x-python",
   "name": "python",
   "nbconvert_exporter": "python",
   "pygments_lexer": "ipython3",
   "version": "3.7.16"
  },
  "vscode": {
   "interpreter": {
    "hash": "8d7bfdaba984072c15b8095e79e25743d7682743f770200693c8aca86390e8dd"
   }
  }
 },
 "nbformat": 4,
 "nbformat_minor": 2
}
