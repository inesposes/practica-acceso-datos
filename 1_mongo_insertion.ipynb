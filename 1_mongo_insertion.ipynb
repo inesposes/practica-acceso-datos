{
 "cells": [
  {
   "cell_type": "markdown",
   "metadata": {},
   "source": [
    "1. Script requests API\n",
    "Este script hace consultas a la API cada 5 mninutos y mete los documentos de las estaciones de BiciCoruña en una base de datos mongo"
   ]
  },
  {
   "cell_type": "code",
   "execution_count": 11,
   "metadata": {},
   "outputs": [
    {
     "name": "stdout",
     "output_type": "stream",
     "text": [
      "Collection(Database(MongoClient(host=['mongo_db:27017'], document_class=dict, tz_aware=False, connect=True), 'bicicorunha'), 'stations')\n",
      "Insertingg...\n",
      "entro\n",
      "sigo\n",
      "try\n",
      "^C\n",
      "Traceback (most recent call last):\n",
      "  File \u001b[35m\"/home/bigdata/code/practica-acceso-datos/scripts/mongo_insertion.py\"\u001b[0m, line \u001b[35m24\u001b[0m, in \u001b[35m<module>\u001b[0m\n",
      "    result = collection.insert_many(stations)\n",
      "  File \u001b[35m\"/home/bigdata/miniconda3/envs/acceso-datos/lib/python3.13/site-packages/pymongo/_csot.py\"\u001b[0m, line \u001b[35m119\u001b[0m, in \u001b[35mcsot_wrapper\u001b[0m\n",
      "    return func(self, *args, **kwargs)\n",
      "  File \u001b[35m\"/home/bigdata/miniconda3/envs/acceso-datos/lib/python3.13/site-packages/pymongo/synchronous/collection.py\"\u001b[0m, line \u001b[35m975\u001b[0m, in \u001b[35minsert_many\u001b[0m\n",
      "    \u001b[31mblk.execute\u001b[0m\u001b[1;31m(write_concern, session, _Op.INSERT)\u001b[0m\n",
      "    \u001b[31m~~~~~~~~~~~\u001b[0m\u001b[1;31m^^^^^^^^^^^^^^^^^^^^^^^^^^^^^^^^^^^^\u001b[0m\n",
      "  File \u001b[35m\"/home/bigdata/miniconda3/envs/acceso-datos/lib/python3.13/site-packages/pymongo/synchronous/bulk.py\"\u001b[0m, line \u001b[35m736\u001b[0m, in \u001b[35mexecute\u001b[0m\n",
      "    return \u001b[31mself.execute_command\u001b[0m\u001b[1;31m(generator, write_concern, session, operation)\u001b[0m\n",
      "           \u001b[31m~~~~~~~~~~~~~~~~~~~~\u001b[0m\u001b[1;31m^^^^^^^^^^^^^^^^^^^^^^^^^^^^^^^^^^^^^^^^^^^^^^\u001b[0m\n",
      "  File \u001b[35m\"/home/bigdata/miniconda3/envs/acceso-datos/lib/python3.13/site-packages/pymongo/synchronous/bulk.py\"\u001b[0m, line \u001b[35m593\u001b[0m, in \u001b[35mexecute_command\u001b[0m\n",
      "    _ = client._retryable_write(\n",
      "        self.is_retryable,\n",
      "    ...<4 lines>...\n",
      "        operation_id=op_id,\n",
      "    )\n",
      "  File \u001b[35m\"/home/bigdata/miniconda3/envs/acceso-datos/lib/python3.13/site-packages/pymongo/synchronous/mongo_client.py\"\u001b[0m, line \u001b[35m1898\u001b[0m, in \u001b[35m_retryable_write\u001b[0m\n",
      "    return \u001b[31mself._retry_with_session\u001b[0m\u001b[1;31m(retryable, func, s, bulk, operation, operation_id)\u001b[0m\n",
      "           \u001b[31m~~~~~~~~~~~~~~~~~~~~~~~~\u001b[0m\u001b[1;31m^^^^^^^^^^^^^^^^^^^^^^^^^^^^^^^^^^^^^^^^^^^^^^^^^^^\u001b[0m\n",
      "  File \u001b[35m\"/home/bigdata/miniconda3/envs/acceso-datos/lib/python3.13/site-packages/pymongo/synchronous/mongo_client.py\"\u001b[0m, line \u001b[35m1784\u001b[0m, in \u001b[35m_retry_with_session\u001b[0m\n",
      "    return \u001b[31mself._retry_internal\u001b[0m\u001b[1;31m(\u001b[0m\n",
      "           \u001b[31m~~~~~~~~~~~~~~~~~~~~\u001b[0m\u001b[1;31m^\u001b[0m\n",
      "        \u001b[1;31mfunc=func,\u001b[0m\n",
      "        \u001b[1;31m^^^^^^^^^^\u001b[0m\n",
      "    ...<4 lines>...\n",
      "        \u001b[1;31moperation_id=operation_id,\u001b[0m\n",
      "        \u001b[1;31m^^^^^^^^^^^^^^^^^^^^^^^^^^\u001b[0m\n",
      "    \u001b[1;31m)\u001b[0m\n",
      "    \u001b[1;31m^\u001b[0m\n",
      "  File \u001b[35m\"/home/bigdata/miniconda3/envs/acceso-datos/lib/python3.13/site-packages/pymongo/_csot.py\"\u001b[0m, line \u001b[35m119\u001b[0m, in \u001b[35mcsot_wrapper\u001b[0m\n",
      "    return func(self, *args, **kwargs)\n",
      "  File \u001b[35m\"/home/bigdata/miniconda3/envs/acceso-datos/lib/python3.13/site-packages/pymongo/synchronous/mongo_client.py\"\u001b[0m, line \u001b[35m1830\u001b[0m, in \u001b[35m_retry_internal\u001b[0m\n",
      "    ).\u001b[31mrun\u001b[0m\u001b[1;31m()\u001b[0m\n",
      "      \u001b[31m~~~\u001b[0m\u001b[1;31m^^\u001b[0m\n",
      "  File \u001b[35m\"/home/bigdata/miniconda3/envs/acceso-datos/lib/python3.13/site-packages/pymongo/synchronous/mongo_client.py\"\u001b[0m, line \u001b[35m2554\u001b[0m, in \u001b[35mrun\u001b[0m\n",
      "    return self._read() if self._is_read else \u001b[31mself._write\u001b[0m\u001b[1;31m()\u001b[0m\n",
      "                                              \u001b[31m~~~~~~~~~~~\u001b[0m\u001b[1;31m^^\u001b[0m\n",
      "  File \u001b[35m\"/home/bigdata/miniconda3/envs/acceso-datos/lib/python3.13/site-packages/pymongo/synchronous/mongo_client.py\"\u001b[0m, line \u001b[35m2662\u001b[0m, in \u001b[35m_write\u001b[0m\n",
      "    self._server = \u001b[31mself._get_server\u001b[0m\u001b[1;31m()\u001b[0m\n",
      "                   \u001b[31m~~~~~~~~~~~~~~~~\u001b[0m\u001b[1;31m^^\u001b[0m\n",
      "  File \u001b[35m\"/home/bigdata/miniconda3/envs/acceso-datos/lib/python3.13/site-packages/pymongo/synchronous/mongo_client.py\"\u001b[0m, line \u001b[35m2645\u001b[0m, in \u001b[35m_get_server\u001b[0m\n",
      "    return \u001b[31mself._client._select_server\u001b[0m\u001b[1;31m(\u001b[0m\n",
      "           \u001b[31m~~~~~~~~~~~~~~~~~~~~~~~~~~~\u001b[0m\u001b[1;31m^\u001b[0m\n",
      "        \u001b[1;31mself._server_selector,\u001b[0m\n",
      "        \u001b[1;31m^^^^^^^^^^^^^^^^^^^^^^\u001b[0m\n",
      "    ...<4 lines>...\n",
      "        \u001b[1;31moperation_id=self._operation_id,\u001b[0m\n",
      "        \u001b[1;31m^^^^^^^^^^^^^^^^^^^^^^^^^^^^^^^^\u001b[0m\n",
      "    \u001b[1;31m)\u001b[0m\n",
      "    \u001b[1;31m^\u001b[0m\n",
      "  File \u001b[35m\"/home/bigdata/miniconda3/envs/acceso-datos/lib/python3.13/site-packages/pymongo/synchronous/mongo_client.py\"\u001b[0m, line \u001b[35m1649\u001b[0m, in \u001b[35m_select_server\u001b[0m\n",
      "    server = topology.select_server(\n",
      "        server_selector,\n",
      "    ...<2 lines>...\n",
      "        operation_id=operation_id,\n",
      "    )\n",
      "  File \u001b[35m\"/home/bigdata/miniconda3/envs/acceso-datos/lib/python3.13/site-packages/pymongo/synchronous/topology.py\"\u001b[0m, line \u001b[35m398\u001b[0m, in \u001b[35mselect_server\u001b[0m\n",
      "    server = self._select_server(\n",
      "        selector,\n",
      "    ...<4 lines>...\n",
      "        operation_id=operation_id,\n",
      "    )\n",
      "  File \u001b[35m\"/home/bigdata/miniconda3/envs/acceso-datos/lib/python3.13/site-packages/pymongo/synchronous/topology.py\"\u001b[0m, line \u001b[35m376\u001b[0m, in \u001b[35m_select_server\u001b[0m\n",
      "    servers = self.select_servers(\n",
      "        selector, operation, server_selection_timeout, address, operation_id\n",
      "    )\n",
      "  File \u001b[35m\"/home/bigdata/miniconda3/envs/acceso-datos/lib/python3.13/site-packages/pymongo/synchronous/topology.py\"\u001b[0m, line \u001b[35m283\u001b[0m, in \u001b[35mselect_servers\u001b[0m\n",
      "    server_descriptions = self._select_servers_loop(\n",
      "        selector, server_timeout, operation, operation_id, address\n",
      "    )\n",
      "  File \u001b[35m\"/home/bigdata/miniconda3/envs/acceso-datos/lib/python3.13/site-packages/pymongo/synchronous/topology.py\"\u001b[0m, line \u001b[35m357\u001b[0m, in \u001b[35m_select_servers_loop\u001b[0m\n",
      "    \u001b[31mself._condition.wait\u001b[0m\u001b[1;31m(common.MIN_HEARTBEAT_INTERVAL)\u001b[0m\n",
      "    \u001b[31m~~~~~~~~~~~~~~~~~~~~\u001b[0m\u001b[1;31m^^^^^^^^^^^^^^^^^^^^^^^^^^^^^^^\u001b[0m\n",
      "  File \u001b[35m\"/home/bigdata/miniconda3/envs/acceso-datos/lib/python3.13/threading.py\"\u001b[0m, line \u001b[35m363\u001b[0m, in \u001b[35mwait\u001b[0m\n",
      "    gotit = waiter.acquire(True, timeout)\n",
      "\u001b[1;35mKeyboardInterrupt\u001b[0m\n"
     ]
    }
   ],
   "source": [
    "!python scripts/mongo_insertion.py"
   ]
  }
 ],
 "metadata": {
  "kernelspec": {
   "display_name": "Python 3.13.0 ('acceso-datos')",
   "language": "python",
   "name": "python3"
  },
  "language_info": {
   "codemirror_mode": {
    "name": "ipython",
    "version": 3
   },
   "file_extension": ".py",
   "mimetype": "text/x-python",
   "name": "python",
   "nbconvert_exporter": "python",
   "pygments_lexer": "ipython3",
   "version": "3.13.0"
  },
  "vscode": {
   "interpreter": {
    "hash": "46756634f89d25eb68c90bd2071347b002e1f90816386f33bb6765cbdf5f0a13"
   }
  }
 },
 "nbformat": 4,
 "nbformat_minor": 2
}
