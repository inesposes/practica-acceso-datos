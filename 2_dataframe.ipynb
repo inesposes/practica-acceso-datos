{
 "cells": [
  {
   "cell_type": "markdown",
   "metadata": {},
   "source": [
    "## DataFrame y creación de archivos\n",
    "\n",
    "Este código lee los datos de la base de datos en los que se insertó previamente, los guarda en un DataFrame y posteriormente exporta el contenido en formato CSV y Parquet. Los guarda en la carpeta 'datasets'"
   ]
  },
  {
   "cell_type": "code",
   "execution_count": 5,
   "metadata": {},
   "outputs": [],
   "source": [
    "# !pip install pyarrow\n",
    "# !pip install fastparquet\n",
    "# !pip install pandas\n",
    "# !pip install pymongo"
   ]
  },
  {
   "cell_type": "code",
   "execution_count": 1,
   "metadata": {},
   "outputs": [
    {
     "name": "stdout",
     "output_type": "stream",
     "text": [
      "CSV and Parquet files created succesfully\n"
     ]
    }
   ],
   "source": [
    "\n",
    "!python scripts/dataframe_creation.py"
   ]
  }
 ],
 "metadata": {
  "kernelspec": {
   "display_name": "acceso-datos",
   "language": "python",
   "name": "python3"
  },
  "language_info": {
   "codemirror_mode": {
    "name": "ipython",
    "version": 3
   },
   "file_extension": ".py",
   "mimetype": "text/x-python",
   "name": "python",
   "nbconvert_exporter": "python",
   "pygments_lexer": "ipython3",
   "version": "3.13.0"
  }
 },
 "nbformat": 4,
 "nbformat_minor": 2
}
