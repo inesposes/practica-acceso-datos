{
 "cells": [
  {
   "cell_type": "markdown",
   "metadata": {},
   "source": [
    "## DataFrame y creación de archivos\n",
    "\n",
    "Este código lee los datos de la base de datos en los que se insertó previamente, los guarda en un DataFrame y posteriormente exporta el contenido en formato CSV y Parquet. Los guarda en la carpeta 'datasets'"
   ]
  },
  {
   "cell_type": "code",
   "execution_count": 5,
   "metadata": {},
   "outputs": [],
   "source": [
    "# !pip install pyarrow\n",
    "# !pip install fastparquet\n",
    "# !pip install pandas\n",
    "# !pip install pymongo"
   ]
  },
  {
   "cell_type": "code",
   "execution_count": 6,
   "metadata": {},
   "outputs": [
    {
     "name": "stdout",
     "output_type": "stream",
     "text": [
      "Traceback (most recent call last):\n",
      "  File \"scripts/dataframe_creation.py\", line 2, in <module>\n",
      "    from mongo_connection import connect_mongo\n",
      "  File \"/home/bigdata/code/practica-acceso-datos/scripts/mongo_connection.py\", line 1, in <module>\n",
      "    from pymongo import MongoClient\n",
      "ModuleNotFoundError: No module named 'pymongo'\n"
     ]
    }
   ],
   "source": [
    "\n",
    "!python scripts/dataframe_creation.py"
   ]
  }
 ],
 "metadata": {
  "kernelspec": {
   "display_name": "Python 3.7.16 ('basesdatos')",
   "language": "python",
   "name": "python3"
  },
  "language_info": {
   "codemirror_mode": {
    "name": "ipython",
    "version": 3
   },
   "file_extension": ".py",
   "mimetype": "text/x-python",
   "name": "python",
   "nbconvert_exporter": "python",
   "pygments_lexer": "ipython3",
   "version": "3.7.16"
  },
  "vscode": {
   "interpreter": {
    "hash": "8d7bfdaba984072c15b8095e79e25743d7682743f770200693c8aca86390e8dd"
   }
  }
 },
 "nbformat": 4,
 "nbformat_minor": 2
}
